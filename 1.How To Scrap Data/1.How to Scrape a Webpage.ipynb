{
 "cells": [
  {
   "cell_type": "code",
   "execution_count": 7,
   "id": "2c4203db-643d-48a3-a2c4-7efd98bd62df",
   "metadata": {},
   "outputs": [],
   "source": [
    "# Importing Libraries\n",
    "import requests"
   ]
  },
  {
   "cell_type": "code",
   "execution_count": null,
   "id": "f510450d-7bc7-4ee8-8e22-a8a00902dc3e",
   "metadata": {},
   "outputs": [],
   "source": [
    "# 'website name' = 'quotes.toscrape.com'"
   ]
  },
  {
   "cell_type": "code",
   "execution_count": 3,
   "id": "77330f63-3344-4cb5-b6ad-6eac288ef5ef",
   "metadata": {},
   "outputs": [],
   "source": [
    "link = 'https://quotes.toscrape.com/'"
   ]
  },
  {
   "cell_type": "code",
   "execution_count": 5,
   "id": "083d96cf-57bb-4a18-8df2-324fb20651dc",
   "metadata": {},
   "outputs": [
    {
     "data": {
      "text/plain": [
       "'https://quotes.toscrape.com/'"
      ]
     },
     "execution_count": 5,
     "metadata": {},
     "output_type": "execute_result"
    }
   ],
   "source": [
    "link"
   ]
  },
  {
   "cell_type": "code",
   "execution_count": 9,
   "id": "6202d051-d0a8-4d4c-9902-053e0db9f530",
   "metadata": {},
   "outputs": [],
   "source": [
    "## Requesting to Website for getting data\n",
    "res = requests.get(link)"
   ]
  },
  {
   "cell_type": "code",
   "execution_count": 13,
   "id": "c97c9cd6-a9ce-42dd-85e7-07cd3a73a0c3",
   "metadata": {},
   "outputs": [],
   "source": [
    "html = res.text"
   ]
  },
  {
   "cell_type": "code",
   "execution_count": 20,
   "id": "8562fc0d-4000-488e-860e-a9ee8f2a49cc",
   "metadata": {},
   "outputs": [],
   "source": [
    "## Saving scrapped data in local System\n",
    "fd = open('main.html','w', encoding='utf-8')\n",
    "fd.write(html)\n",
    "fd.close()"
   ]
  },
  {
   "cell_type": "code",
   "execution_count": null,
   "id": "db602e17-7053-42f7-8bc1-83ac468e07a4",
   "metadata": {},
   "outputs": [],
   "source": []
  }
 ],
 "metadata": {
  "kernelspec": {
   "display_name": "Python 3 (ipykernel)",
   "language": "python",
   "name": "python3"
  },
  "language_info": {
   "codemirror_mode": {
    "name": "ipython",
    "version": 3
   },
   "file_extension": ".py",
   "mimetype": "text/x-python",
   "name": "python",
   "nbconvert_exporter": "python",
   "pygments_lexer": "ipython3",
   "version": "3.10.7"
  }
 },
 "nbformat": 4,
 "nbformat_minor": 5
}
