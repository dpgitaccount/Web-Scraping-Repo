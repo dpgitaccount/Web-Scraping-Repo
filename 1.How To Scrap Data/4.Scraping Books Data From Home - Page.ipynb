{
 "cells": [
  {
   "cell_type": "code",
   "execution_count": 1,
   "id": "517cc37f-45c5-4d3f-8e20-160795faf46e",
   "metadata": {},
   "outputs": [],
   "source": [
    "import requests\n",
    "from bs4 import BeautifulSoup\n",
    "\n",
    "link = 'https://books.toscrape.com/catalogue/page-1.html'"
   ]
  },
  {
   "cell_type": "code",
   "execution_count": 2,
   "id": "dc9a1a46-5d1f-4487-8b6b-350615f79886",
   "metadata": {},
   "outputs": [],
   "source": [
    "res = requests.get(link)\n",
    "\n",
    "soup = BeautifulSoup(res.text, 'html.parser')"
   ]
  },
  {
   "cell_type": "code",
   "execution_count": 3,
   "id": "6ef41232-98bd-4ebb-8460-7b6bf57ec2bd",
   "metadata": {},
   "outputs": [],
   "source": [
    "data = []\n",
    "\n",
    "for sp in soup.find_all('li', class_= 'col-xs-6 col-sm-4 col-md-3 col-lg-3'):\n",
    "        \n",
    "    img_link   = 'https://books.toscrape.com/' + sp.find('img').get('src')[3:]\n",
    "    book_link  = 'https://books.toscrape.com/catalogue/' + sp.find_all('a')[-1].get('href')\n",
    "    title      = sp.find_all('a')[-1].get('title')\n",
    "    rating     = sp.find('p').get('class')[-1]\n",
    "    price      = sp.find('p',class_ = 'price_color').text[2:]\n",
    "    stock      = sp.find('p', class_ = 'instock availability').text.strip()\n",
    "    \n",
    "    \n",
    "    data.append([title, rating, price, stock, book_link, img_link])"
   ]
  },
  {
   "cell_type": "code",
   "execution_count": 4,
   "id": "aa4ffd33-0c04-4594-987e-ad0998c9d8eb",
   "metadata": {},
   "outputs": [
    {
     "data": {
      "text/plain": [
       "20"
      ]
     },
     "execution_count": 4,
     "metadata": {},
     "output_type": "execute_result"
    }
   ],
   "source": [
    "len(data)\n"
   ]
  },
  {
   "cell_type": "code",
   "execution_count": null,
   "id": "b52c1315-f099-454f-b1cc-846efeaf5c6d",
   "metadata": {},
   "outputs": [],
   "source": []
  }
 ],
 "metadata": {
  "kernelspec": {
   "display_name": "Python 3 (ipykernel)",
   "language": "python",
   "name": "python3"
  },
  "language_info": {
   "codemirror_mode": {
    "name": "ipython",
    "version": 3
   },
   "file_extension": ".py",
   "mimetype": "text/x-python",
   "name": "python",
   "nbconvert_exporter": "python",
   "pygments_lexer": "ipython3",
   "version": "3.10.7"
  }
 },
 "nbformat": 4,
 "nbformat_minor": 5
}
