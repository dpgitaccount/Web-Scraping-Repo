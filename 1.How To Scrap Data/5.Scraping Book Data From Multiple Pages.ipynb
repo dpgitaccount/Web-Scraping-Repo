{
 "cells": [
  {
   "cell_type": "code",
   "execution_count": 1,
   "id": "095d0f42-5b8b-4afa-8ffd-4f10fcf00153",
   "metadata": {},
   "outputs": [],
   "source": [
    "import requests\n",
    "import pandas as pd\n",
    "from tqdm import tqdm\n",
    "from bs4 import BeautifulSoup"
   ]
  },
  {
   "cell_type": "code",
   "execution_count": null,
   "id": "e6a719fe-9b33-471b-9d48-7162cbfa400d",
   "metadata": {},
   "outputs": [
    {
     "name": "stderr",
     "output_type": "stream",
     "text": [
      " 78%|███████████████████████████████████████████████████████████████▉                  | 39/50 [01:00<00:16,  1.55s/it]"
     ]
    }
   ],
   "source": [
    "data = []\n",
    "\n",
    "for i in tqdm(range(1,51)):        # Going through each page one by one\n",
    "\n",
    "    link = 'https://books.toscrape.com/catalogue/page-' + str(i) + '.html'     # Creating link for each page\n",
    "\n",
    "    res = requests.get(link)                                                   # Sending Request to the link\n",
    "    soup = BeautifulSoup(res.text, 'html.parser')                              # Creating a soup for that page\n",
    "    \n",
    "    \n",
    "    for sp in soup.find_all('li', class_= 'col-xs-6 col-sm-4 col-md-3 col-lg-3'):\n",
    "    \n",
    "        img_link   = 'https://books.toscrape.com/' + sp.find('img').get('src')[3:]\n",
    "        book_link  = 'https://books.toscrape.com/catalogue/' + sp.find_all('a')[-1].get('href')\n",
    "        title      = sp.find_all('a')[-1].get('title')\n",
    "        rating     = sp.find('p').get('class')[-1]\n",
    "        price      = sp.find('p',class_ = 'price_color').text[2:]\n",
    "        stock      = sp.find('p', class_ = 'instock availability').text.strip()\n",
    "\n",
    "        data.append([title, rating, price, stock, book_link, img_link])        # Saving scraped data in a list"
   ]
  },
  {
   "cell_type": "code",
   "execution_count": null,
   "id": "909ac1b7-2706-4956-9cd2-b295201abb32",
   "metadata": {},
   "outputs": [],
   "source": [
    "len(data)\n"
   ]
  },
  {
   "cell_type": "code",
   "execution_count": null,
   "id": "1d388354-338f-40be-89a4-a9a55d4a2da5",
   "metadata": {},
   "outputs": [],
   "source": [
    "df = pd.DataFrame(data, columns = ['title', 'rating', 'price', 'stock', 'book_link','img_link'])\n"
   ]
  },
  {
   "cell_type": "code",
   "execution_count": null,
   "id": "6ff763d4-2edf-4735-92a8-30d8d3db9c77",
   "metadata": {},
   "outputs": [],
   "source": [
    "df.head()\n"
   ]
  },
  {
   "cell_type": "code",
   "execution_count": null,
   "id": "2fdc1a93-e3c5-46c8-bebe-6c4dd6fb54b8",
   "metadata": {},
   "outputs": [],
   "source": [
    "df.to_csv('books.csv', index = False)\n"
   ]
  }
 ],
 "metadata": {
  "kernelspec": {
   "display_name": "Python 3 (ipykernel)",
   "language": "python",
   "name": "python3"
  },
  "language_info": {
   "codemirror_mode": {
    "name": "ipython",
    "version": 3
   },
   "file_extension": ".py",
   "mimetype": "text/x-python",
   "name": "python",
   "nbconvert_exporter": "python",
   "pygments_lexer": "ipython3",
   "version": "3.10.7"
  }
 },
 "nbformat": 4,
 "nbformat_minor": 5
}
