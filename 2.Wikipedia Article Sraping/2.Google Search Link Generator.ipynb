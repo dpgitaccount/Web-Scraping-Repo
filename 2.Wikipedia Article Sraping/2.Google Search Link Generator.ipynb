{
 "cells": [
  {
   "cell_type": "code",
   "execution_count": 1,
   "id": "73a3cb0c-2ef5-4af1-9bfb-3451b8f44723",
   "metadata": {},
   "outputs": [],
   "source": [
    "import requests\n",
    "from bs4 import BeautifulSoup"
   ]
  },
  {
   "cell_type": "code",
   "execution_count": 2,
   "id": "49c78ff8-c8ed-4ba7-bfc1-5afa90eb74b6",
   "metadata": {},
   "outputs": [
    {
     "name": "stdin",
     "output_type": "stream",
     "text": [
      "Enter the topic:  Elon Musk\n"
     ]
    }
   ],
   "source": [
    "title = str(input('Enter the topic: ')).replace(' ','+')\n",
    "link = 'https://www.google.com/search?q=' + title + '+wikipedia'"
   ]
  },
  {
   "cell_type": "code",
   "execution_count": 3,
   "id": "3abc91f8-aa6f-43e5-86c9-391b1a65fa46",
   "metadata": {},
   "outputs": [
    {
     "data": {
      "text/plain": [
       "'https://www.google.com/search?q=Elon+Musk+wikipedia'"
      ]
     },
     "execution_count": 3,
     "metadata": {},
     "output_type": "execute_result"
    }
   ],
   "source": [
    "link"
   ]
  }
 ],
 "metadata": {
  "kernelspec": {
   "display_name": "Python 3 (ipykernel)",
   "language": "python",
   "name": "python3"
  },
  "language_info": {
   "codemirror_mode": {
    "name": "ipython",
    "version": 3
   },
   "file_extension": ".py",
   "mimetype": "text/x-python",
   "name": "python",
   "nbconvert_exporter": "python",
   "pygments_lexer": "ipython3",
   "version": "3.10.7"
  }
 },
 "nbformat": 4,
 "nbformat_minor": 5
}
